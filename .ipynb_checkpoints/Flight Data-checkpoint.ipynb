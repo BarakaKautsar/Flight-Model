{
 "cells": [
  {
   "cell_type": "code",
   "execution_count": 86,
   "id": "68dd7fd1",
   "metadata": {},
   "outputs": [],
   "source": [
    "import pandas as pd\n",
    "import numpy as np\n",
    "import joblib\n",
    "import time\n",
    "from sklearn.model_selection import train_test_split\n",
    "from sklearn.preprocessing import OneHotEncoder\n",
    "from sklearn.pipeline import Pipeline\n",
    "from sklearn.compose import ColumnTransformer\n",
    "from sklearn import linear_model\n",
    "from sklearn.linear_model import LinearRegression\n",
    "import pickle\n",
    "from azure.storage.blob import BlobServiceClient"
   ]
  },
  {
   "cell_type": "code",
   "execution_count": null,
   "id": "7a7caece",
   "metadata": {},
   "outputs": [],
   "source": [
    "# STORAGEACCOUNTURL= \"https://tst18220095.blob.core.windows.net/\"\n",
    "# STORAGEACCOUNTKEY= \"Vp0M51+EQMqigMTzWWDXUQpgPy5FEvoN0i82swDHV9HZNqdv6GEgUPClTwtr6hFR3/poVTtmt7kV+AStkc6dmg==\"\n",
    "# LOCALFILENAME= \"Cleaned_2018_Flights1.csv\"\n",
    "# CONTAINERNAME= \"newcontainer\"\n",
    "# BLOBNAME= \"Cleaned_2018_Flights.csv\"\n",
    "\n",
    "# #download from blob\n",
    "# blob_service_client_instance = BlobServiceClient(account_url=STORAGEACCOUNTURL, credential=STORAGEACCOUNTKEY)\n",
    "# blob_client_instance = blob_service_client_instance.get_blob_client(CONTAINERNAME, BLOBNAME, snapshot=None)\n",
    "# with open(LOCALFILENAME, \"wb\") as my_blob:\n",
    "#     blob_data = blob_client_instance.download_blob()\n",
    "#     blob_data.readinto(my_blob)"
   ]
  },
  {
   "cell_type": "code",
   "execution_count": 91,
   "id": "053e570f",
   "metadata": {},
   "outputs": [
    {
     "data": {
      "text/html": [
       "<div>\n",
       "<style scoped>\n",
       "    .dataframe tbody tr th:only-of-type {\n",
       "        vertical-align: middle;\n",
       "    }\n",
       "\n",
       "    .dataframe tbody tr th {\n",
       "        vertical-align: top;\n",
       "    }\n",
       "\n",
       "    .dataframe thead th {\n",
       "        text-align: right;\n",
       "    }\n",
       "</style>\n",
       "<table border=\"1\" class=\"dataframe\">\n",
       "  <thead>\n",
       "    <tr style=\"text-align: right;\">\n",
       "      <th></th>\n",
       "      <th>Quarter</th>\n",
       "      <th>Origin</th>\n",
       "      <th>Dest</th>\n",
       "      <th>NumTicketsOrdered</th>\n",
       "      <th>AirlineCompany</th>\n",
       "      <th>PricePerTicket</th>\n",
       "    </tr>\n",
       "  </thead>\n",
       "  <tbody>\n",
       "    <tr>\n",
       "      <th>0</th>\n",
       "      <td>1</td>\n",
       "      <td>PHL</td>\n",
       "      <td>LAX</td>\n",
       "      <td>1.0</td>\n",
       "      <td>AA</td>\n",
       "      <td>672.87</td>\n",
       "    </tr>\n",
       "    <tr>\n",
       "      <th>1</th>\n",
       "      <td>1</td>\n",
       "      <td>PHL</td>\n",
       "      <td>LAX</td>\n",
       "      <td>1.0</td>\n",
       "      <td>AA</td>\n",
       "      <td>367.68</td>\n",
       "    </tr>\n",
       "    <tr>\n",
       "      <th>2</th>\n",
       "      <td>1</td>\n",
       "      <td>PHL</td>\n",
       "      <td>LAX</td>\n",
       "      <td>1.0</td>\n",
       "      <td>AA</td>\n",
       "      <td>417.94</td>\n",
       "    </tr>\n",
       "    <tr>\n",
       "      <th>3</th>\n",
       "      <td>1</td>\n",
       "      <td>PHL</td>\n",
       "      <td>LAX</td>\n",
       "      <td>1.0</td>\n",
       "      <td>AA</td>\n",
       "      <td>247.10</td>\n",
       "    </tr>\n",
       "    <tr>\n",
       "      <th>4</th>\n",
       "      <td>1</td>\n",
       "      <td>PHL</td>\n",
       "      <td>LAX</td>\n",
       "      <td>1.0</td>\n",
       "      <td>AA</td>\n",
       "      <td>276.35</td>\n",
       "    </tr>\n",
       "  </tbody>\n",
       "</table>\n",
       "</div>"
      ],
      "text/plain": [
       "   Quarter Origin Dest  NumTicketsOrdered AirlineCompany  PricePerTicket\n",
       "0        1    PHL  LAX                1.0             AA          672.87\n",
       "1        1    PHL  LAX                1.0             AA          367.68\n",
       "2        1    PHL  LAX                1.0             AA          417.94\n",
       "3        1    PHL  LAX                1.0             AA          247.10\n",
       "4        1    PHL  LAX                1.0             AA          276.35"
      ]
     },
     "execution_count": 91,
     "metadata": {},
     "output_type": "execute_result"
    }
   ],
   "source": [
    "data = pd.read_csv('Cleaned_2018_Flights1.csv')\n",
    "data = data.dropna()\n",
    "data = data.drop(\n",
    "    columns=[\n",
    "        \"Unnamed: 0\",\n",
    "        \"ItinID\",\n",
    "        \"MktID\",\n",
    "        \"MktCoupons\",\n",
    "        \"OriginWac\",\n",
    "        \"DestWac\",\n",
    "        \"ContiguousUSA\",\n",
    "        \"Miles\"\n",
    "    ]\n",
    ")\n",
    "data.head()"
   ]
  },
  {
   "cell_type": "code",
   "execution_count": 41,
   "id": "1fc7e8c6",
   "metadata": {},
   "outputs": [],
   "source": [
    "y = data[[\"PricePerTicket\"]]\n",
    "x = data.drop(columns=[\"PricePerTicket\"])"
   ]
  },
  {
   "cell_type": "code",
   "execution_count": 44,
   "id": "21489cff",
   "metadata": {},
   "outputs": [],
   "source": [
    "X_train, X_test, y_train, y_test = train_test_split(\n",
    "    x, y, test_size=0.33, random_state=42\n",
    ")"
   ]
  },
  {
   "cell_type": "code",
   "execution_count": 50,
   "id": "d0563ed4",
   "metadata": {},
   "outputs": [],
   "source": [
    "numerical_cols = [\"NumTicketsOrdered\"]\n",
    "categorical_cols = [\"Quarter\", \"Origin\", \"Dest\", \"AirlineCompany\"]\n",
    "\n",
    "categorical_transformer = Pipeline(\n",
    "    steps=[(\"onehot\", OneHotEncoder(handle_unknown=\"ignore\"))]\n",
    ")\n",
    "preprocessor = ColumnTransformer(\n",
    "    transformers=[(\"cat\", categorical_transformer, categorical_cols)],\n",
    "    remainder=\"passthrough\",\n",
    ")"
   ]
  },
  {
   "cell_type": "code",
   "execution_count": 92,
   "id": "d15180a5",
   "metadata": {},
   "outputs": [
    {
     "data": {
      "text/html": [
       "<style>#sk-container-id-4 {color: black;background-color: white;}#sk-container-id-4 pre{padding: 0;}#sk-container-id-4 div.sk-toggleable {background-color: white;}#sk-container-id-4 label.sk-toggleable__label {cursor: pointer;display: block;width: 100%;margin-bottom: 0;padding: 0.3em;box-sizing: border-box;text-align: center;}#sk-container-id-4 label.sk-toggleable__label-arrow:before {content: \"▸\";float: left;margin-right: 0.25em;color: #696969;}#sk-container-id-4 label.sk-toggleable__label-arrow:hover:before {color: black;}#sk-container-id-4 div.sk-estimator:hover label.sk-toggleable__label-arrow:before {color: black;}#sk-container-id-4 div.sk-toggleable__content {max-height: 0;max-width: 0;overflow: hidden;text-align: left;background-color: #f0f8ff;}#sk-container-id-4 div.sk-toggleable__content pre {margin: 0.2em;color: black;border-radius: 0.25em;background-color: #f0f8ff;}#sk-container-id-4 input.sk-toggleable__control:checked~div.sk-toggleable__content {max-height: 200px;max-width: 100%;overflow: auto;}#sk-container-id-4 input.sk-toggleable__control:checked~label.sk-toggleable__label-arrow:before {content: \"▾\";}#sk-container-id-4 div.sk-estimator input.sk-toggleable__control:checked~label.sk-toggleable__label {background-color: #d4ebff;}#sk-container-id-4 div.sk-label input.sk-toggleable__control:checked~label.sk-toggleable__label {background-color: #d4ebff;}#sk-container-id-4 input.sk-hidden--visually {border: 0;clip: rect(1px 1px 1px 1px);clip: rect(1px, 1px, 1px, 1px);height: 1px;margin: -1px;overflow: hidden;padding: 0;position: absolute;width: 1px;}#sk-container-id-4 div.sk-estimator {font-family: monospace;background-color: #f0f8ff;border: 1px dotted black;border-radius: 0.25em;box-sizing: border-box;margin-bottom: 0.5em;}#sk-container-id-4 div.sk-estimator:hover {background-color: #d4ebff;}#sk-container-id-4 div.sk-parallel-item::after {content: \"\";width: 100%;border-bottom: 1px solid gray;flex-grow: 1;}#sk-container-id-4 div.sk-label:hover label.sk-toggleable__label {background-color: #d4ebff;}#sk-container-id-4 div.sk-serial::before {content: \"\";position: absolute;border-left: 1px solid gray;box-sizing: border-box;top: 0;bottom: 0;left: 50%;z-index: 0;}#sk-container-id-4 div.sk-serial {display: flex;flex-direction: column;align-items: center;background-color: white;padding-right: 0.2em;padding-left: 0.2em;position: relative;}#sk-container-id-4 div.sk-item {position: relative;z-index: 1;}#sk-container-id-4 div.sk-parallel {display: flex;align-items: stretch;justify-content: center;background-color: white;position: relative;}#sk-container-id-4 div.sk-item::before, #sk-container-id-4 div.sk-parallel-item::before {content: \"\";position: absolute;border-left: 1px solid gray;box-sizing: border-box;top: 0;bottom: 0;left: 50%;z-index: -1;}#sk-container-id-4 div.sk-parallel-item {display: flex;flex-direction: column;z-index: 1;position: relative;background-color: white;}#sk-container-id-4 div.sk-parallel-item:first-child::after {align-self: flex-end;width: 50%;}#sk-container-id-4 div.sk-parallel-item:last-child::after {align-self: flex-start;width: 50%;}#sk-container-id-4 div.sk-parallel-item:only-child::after {width: 0;}#sk-container-id-4 div.sk-dashed-wrapped {border: 1px dashed gray;margin: 0 0.4em 0.5em 0.4em;box-sizing: border-box;padding-bottom: 0.4em;background-color: white;}#sk-container-id-4 div.sk-label label {font-family: monospace;font-weight: bold;display: inline-block;line-height: 1.2em;}#sk-container-id-4 div.sk-label-container {text-align: center;}#sk-container-id-4 div.sk-container {/* jupyter's `normalize.less` sets `[hidden] { display: none; }` but bootstrap.min.css set `[hidden] { display: none !important; }` so we also need the `!important` here to be able to override the default hidden behavior on the sphinx rendered scikit-learn.org. See: https://github.com/scikit-learn/scikit-learn/issues/21755 */display: inline-block !important;position: relative;}#sk-container-id-4 div.sk-text-repr-fallback {display: none;}</style><div id=\"sk-container-id-4\" class=\"sk-top-container\"><div class=\"sk-text-repr-fallback\"><pre>Pipeline(steps=[(&#x27;preprocessor&#x27;,\n",
       "                 ColumnTransformer(remainder=&#x27;passthrough&#x27;,\n",
       "                                   transformers=[(&#x27;cat&#x27;,\n",
       "                                                  Pipeline(steps=[(&#x27;onehot&#x27;,\n",
       "                                                                   OneHotEncoder(handle_unknown=&#x27;ignore&#x27;))]),\n",
       "                                                  [&#x27;Quarter&#x27;, &#x27;Origin&#x27;, &#x27;Dest&#x27;,\n",
       "                                                   &#x27;AirlineCompany&#x27;])])),\n",
       "                (&#x27;LinearRegressor&#x27;, LinearRegression())])</pre><b>In a Jupyter environment, please rerun this cell to show the HTML representation or trust the notebook. <br />On GitHub, the HTML representation is unable to render, please try loading this page with nbviewer.org.</b></div><div class=\"sk-container\" hidden><div class=\"sk-item sk-dashed-wrapped\"><div class=\"sk-label-container\"><div class=\"sk-label sk-toggleable\"><input class=\"sk-toggleable__control sk-hidden--visually\" id=\"sk-estimator-id-14\" type=\"checkbox\" ><label for=\"sk-estimator-id-14\" class=\"sk-toggleable__label sk-toggleable__label-arrow\">Pipeline</label><div class=\"sk-toggleable__content\"><pre>Pipeline(steps=[(&#x27;preprocessor&#x27;,\n",
       "                 ColumnTransformer(remainder=&#x27;passthrough&#x27;,\n",
       "                                   transformers=[(&#x27;cat&#x27;,\n",
       "                                                  Pipeline(steps=[(&#x27;onehot&#x27;,\n",
       "                                                                   OneHotEncoder(handle_unknown=&#x27;ignore&#x27;))]),\n",
       "                                                  [&#x27;Quarter&#x27;, &#x27;Origin&#x27;, &#x27;Dest&#x27;,\n",
       "                                                   &#x27;AirlineCompany&#x27;])])),\n",
       "                (&#x27;LinearRegressor&#x27;, LinearRegression())])</pre></div></div></div><div class=\"sk-serial\"><div class=\"sk-item sk-dashed-wrapped\"><div class=\"sk-label-container\"><div class=\"sk-label sk-toggleable\"><input class=\"sk-toggleable__control sk-hidden--visually\" id=\"sk-estimator-id-15\" type=\"checkbox\" ><label for=\"sk-estimator-id-15\" class=\"sk-toggleable__label sk-toggleable__label-arrow\">preprocessor: ColumnTransformer</label><div class=\"sk-toggleable__content\"><pre>ColumnTransformer(remainder=&#x27;passthrough&#x27;,\n",
       "                  transformers=[(&#x27;cat&#x27;,\n",
       "                                 Pipeline(steps=[(&#x27;onehot&#x27;,\n",
       "                                                  OneHotEncoder(handle_unknown=&#x27;ignore&#x27;))]),\n",
       "                                 [&#x27;Quarter&#x27;, &#x27;Origin&#x27;, &#x27;Dest&#x27;,\n",
       "                                  &#x27;AirlineCompany&#x27;])])</pre></div></div></div><div class=\"sk-parallel\"><div class=\"sk-parallel-item\"><div class=\"sk-item\"><div class=\"sk-label-container\"><div class=\"sk-label sk-toggleable\"><input class=\"sk-toggleable__control sk-hidden--visually\" id=\"sk-estimator-id-16\" type=\"checkbox\" ><label for=\"sk-estimator-id-16\" class=\"sk-toggleable__label sk-toggleable__label-arrow\">cat</label><div class=\"sk-toggleable__content\"><pre>[&#x27;Quarter&#x27;, &#x27;Origin&#x27;, &#x27;Dest&#x27;, &#x27;AirlineCompany&#x27;]</pre></div></div></div><div class=\"sk-serial\"><div class=\"sk-item\"><div class=\"sk-serial\"><div class=\"sk-item\"><div class=\"sk-estimator sk-toggleable\"><input class=\"sk-toggleable__control sk-hidden--visually\" id=\"sk-estimator-id-17\" type=\"checkbox\" ><label for=\"sk-estimator-id-17\" class=\"sk-toggleable__label sk-toggleable__label-arrow\">OneHotEncoder</label><div class=\"sk-toggleable__content\"><pre>OneHotEncoder(handle_unknown=&#x27;ignore&#x27;)</pre></div></div></div></div></div></div></div></div><div class=\"sk-parallel-item\"><div class=\"sk-item\"><div class=\"sk-label-container\"><div class=\"sk-label sk-toggleable\"><input class=\"sk-toggleable__control sk-hidden--visually\" id=\"sk-estimator-id-18\" type=\"checkbox\" ><label for=\"sk-estimator-id-18\" class=\"sk-toggleable__label sk-toggleable__label-arrow\">remainder</label><div class=\"sk-toggleable__content\"><pre>[&#x27;NumTicketsOrdered&#x27;]</pre></div></div></div><div class=\"sk-serial\"><div class=\"sk-item\"><div class=\"sk-estimator sk-toggleable\"><input class=\"sk-toggleable__control sk-hidden--visually\" id=\"sk-estimator-id-19\" type=\"checkbox\" ><label for=\"sk-estimator-id-19\" class=\"sk-toggleable__label sk-toggleable__label-arrow\">passthrough</label><div class=\"sk-toggleable__content\"><pre>passthrough</pre></div></div></div></div></div></div></div></div><div class=\"sk-item\"><div class=\"sk-estimator sk-toggleable\"><input class=\"sk-toggleable__control sk-hidden--visually\" id=\"sk-estimator-id-20\" type=\"checkbox\" ><label for=\"sk-estimator-id-20\" class=\"sk-toggleable__label sk-toggleable__label-arrow\">LinearRegression</label><div class=\"sk-toggleable__content\"><pre>LinearRegression()</pre></div></div></div></div></div></div></div>"
      ],
      "text/plain": [
       "Pipeline(steps=[('preprocessor',\n",
       "                 ColumnTransformer(remainder='passthrough',\n",
       "                                   transformers=[('cat',\n",
       "                                                  Pipeline(steps=[('onehot',\n",
       "                                                                   OneHotEncoder(handle_unknown='ignore'))]),\n",
       "                                                  ['Quarter', 'Origin', 'Dest',\n",
       "                                                   'AirlineCompany'])])),\n",
       "                ('LinearRegressor', LinearRegression())])"
      ]
     },
     "execution_count": 92,
     "metadata": {},
     "output_type": "execute_result"
    }
   ],
   "source": [
    "LR_pipe = Pipeline([(\"preprocessor\", preprocessor), (\"LinearRegressor\", LinearRegression())])\n",
    "LR_pipe.fit(X_train, y_train)"
   ]
  },
  {
   "cell_type": "code",
   "execution_count": 93,
   "id": "d6d26a9b",
   "metadata": {},
   "outputs": [
    {
     "data": {
      "text/plain": [
       "['API/models/flightmodel.joblib']"
      ]
     },
     "execution_count": 93,
     "metadata": {},
     "output_type": "execute_result"
    }
   ],
   "source": [
    "joblib.dump(LR_pipe, \"API/models/flightmodel.joblib\")"
   ]
  },
  {
   "cell_type": "markdown",
   "id": "3a90bb60",
   "metadata": {},
   "source": [
    "file = \"lr_model.sav\"\n",
    "pickle.dump(lr, open(file, 'wb'))"
   ]
  },
  {
   "cell_type": "markdown",
   "id": "a9ecfdb2",
   "metadata": {},
   "source": [
    "file = \"preprocerssor.sav\"\n",
    "pickle.dump(preprocessor, open(file, 'wb'))"
   ]
  },
  {
   "cell_type": "markdown",
   "id": "936dc3d5",
   "metadata": {},
   "source": [
    "TEST 1"
   ]
  },
  {
   "cell_type": "code",
   "execution_count": 122,
   "id": "e4440afd",
   "metadata": {},
   "outputs": [],
   "source": [
    "# key1 = open(\"preprocerssor.sav\",\"rb\")\n",
    "# key2 = open(\"lr_model.sav\",\"rb\")\n",
    "key3 = open(\"API/models/flightmodel.joblib\",\"rb\")\n",
    "model = joblib.load(key3)\n",
    "test_datas = [1,\"BOS\",\"LAX\",2,\"AA\"]"
   ]
  },
  {
   "cell_type": "code",
   "execution_count": 118,
   "id": "fd9d8d51",
   "metadata": {},
   "outputs": [
    {
     "data": {
      "text/plain": [
       "array([[4.0, 'SFO', 'LAX', 4.0, 'DL']], dtype=object)"
      ]
     },
     "execution_count": 118,
     "metadata": {},
     "output_type": "execute_result"
    }
   ],
   "source": [
    "plan = \"4,SFO,LAX,4,DL\"\n",
    "types = {\n",
    "    \"Quarter\": np.float64,\n",
    "    \"Origin\": str,\n",
    "    \"Dest\": str,\n",
    "    \"NumTicketsOrdered\": np.float64,\n",
    "    \"AirlineCompany\": str,\n",
    "}\n",
    "    \n",
    "test_data = plan.split(\",\")\n",
    "df = pd.DataFrame(test_data).transpose()\n",
    "df.columns = list(types.keys())\n",
    "df = df.astype(types)\n",
    "df.to_numpy()"
   ]
  },
  {
   "cell_type": "code",
   "execution_count": 120,
   "id": "98964cbd",
   "metadata": {},
   "outputs": [
    {
     "data": {
      "text/plain": [
       "['4', 'SFO', 'LAX', '4', 'DL']"
      ]
     },
     "execution_count": 120,
     "metadata": {},
     "output_type": "execute_result"
    }
   ],
   "source": [
    "test_data"
   ]
  },
  {
   "cell_type": "code",
   "execution_count": 124,
   "id": "7876102c",
   "metadata": {
    "scrolled": false
   },
   "outputs": [
    {
     "data": {
      "text/plain": [
       "array([[1.0, 'BOS', 'LAX', 2.0, 'AA']], dtype=object)"
      ]
     },
     "execution_count": 124,
     "metadata": {},
     "output_type": "execute_result"
    }
   ],
   "source": [
    "test_datas\n",
    "df = pd.DataFrame(test_datas).transpose()\n",
    "df.columns = list(types.keys())\n",
    "df = df.astype(types)\n",
    "df.to_numpy()"
   ]
  },
  {
   "cell_type": "code",
   "execution_count": 126,
   "id": "29e20e93",
   "metadata": {},
   "outputs": [
    {
     "data": {
      "text/plain": [
       "289.0336788164434"
      ]
     },
     "execution_count": 126,
     "metadata": {},
     "output_type": "execute_result"
    }
   ],
   "source": [
    "model.predict(df)[0][0]"
   ]
  },
  {
   "cell_type": "code",
   "execution_count": 59,
   "id": "c32ec6d7",
   "metadata": {},
   "outputs": [
    {
     "data": {
      "text/plain": [
       "array(['AA', 'AS', 'DL', 'UA', 'B6', 'SY', 'WN', 'F9', 'G4', 'HA', 'NK',\n",
       "       'VX'], dtype=object)"
      ]
     },
     "execution_count": 59,
     "metadata": {},
     "output_type": "execute_result"
    }
   ],
   "source": [
    "data[\"AirlineCompany\"].unique()"
   ]
  },
  {
   "cell_type": "code",
   "execution_count": 62,
   "id": "49a6849a",
   "metadata": {},
   "outputs": [
    {
     "data": {
      "text/plain": [
       "array(['PHL', 'LAX', 'SAN', 'SFO', 'AUS', 'BOS', 'MIA', 'ORD', 'LGA',\n",
       "       'CLT', 'TPA', 'DFW', 'LAS', 'MCI', 'MCO', 'FLL', 'MSY', 'PBI',\n",
       "       'PHX', 'RSW', 'MEM', 'MHT', 'SJU', 'SLC', 'MSP', 'SAT', 'CLE',\n",
       "       'DEN', 'JAC', 'SEA', 'RDU', 'SMF', 'DTW', 'PIT', 'PVD', 'ATL',\n",
       "       'BNA', 'DCA', 'STL', 'ABQ', 'BOI', 'JFK', 'KOA', 'BWI', 'EWR',\n",
       "       'JAX', 'CMH', 'OMA', 'PDX', 'COS', 'DSM', 'GEG', 'HDN', 'IND',\n",
       "       'MKE', 'MTJ', 'FAT', 'HNL', 'LIH', 'IAH', 'SJC', 'SNA', 'OGG',\n",
       "       'RNO', 'OAK', 'ONT', 'PSP', 'RIC', 'SAV', 'PNS', 'SDF', 'PWM',\n",
       "       'BDL', 'TUL', 'ORF', 'VPS', 'TUS', 'SBA', 'ILM', 'IAD', 'CVG',\n",
       "       'GSP', 'STT', 'STX', 'SYR', 'BUF', 'EGE', 'ICT', 'LBB', 'ADK',\n",
       "       'ANC', 'ADQ', 'JNU', 'BET', 'BRW', 'CDV', 'KTN', 'FAI', 'PSG',\n",
       "       'WRG', 'SIT', 'OME', 'OTZ', 'SCC', 'SRQ', 'BIL', 'BZN', 'AGS',\n",
       "       'ALB', 'CHS', 'GSO', 'OKC', 'LEX', 'HOU', 'ROA', 'TLH', 'LFT',\n",
       "       'CRW', 'FNT', 'LIT', 'JAN', 'BTR', 'GPT', 'BHM', 'DAL', 'MDW',\n",
       "       'MDT', 'EVV', 'GRR', 'MSN', 'CHA', 'XNA', 'DAY', 'ROC', 'EYW',\n",
       "       'BIS', 'MLB', 'CID', 'MOB', 'CAK', 'GNV', 'MSO', 'FAR', 'FSD',\n",
       "       'GRB', 'MYR', 'ECP', 'PHF', 'ELP', 'GUC', 'MFE', 'MFR', 'ITO',\n",
       "       'LNK', 'MRY', 'BTV', 'BUR', 'GUM', 'RDM', 'YAK', 'BLI', 'LGB',\n",
       "       'BQN', 'DAB', 'HPN', 'ORH', 'SWF', 'PSE', 'FAY', 'CHO', 'ABE',\n",
       "       'CAE', 'TRI', 'SGF', 'ATW', 'TYS', 'HRL', 'ASE', 'AVL', 'ISP',\n",
       "       'AMA', 'CRP', 'MAF', 'FLG', 'AVP', 'HSV', 'BMI', 'TTN', 'PGD',\n",
       "       'PIE', 'SFB', 'AZA', 'LCK', 'BLV', 'EUG', 'FWA', 'GFK', 'GRI',\n",
       "       'GTF', 'IDA', 'MLI', 'MOT', 'OGD', 'PIA', 'PSC', 'PVU', 'RAP',\n",
       "       'RFD', 'SBN', 'SCK', 'STC', 'BGR', 'CKB', 'CPR', 'ELM', 'FCA',\n",
       "       'PBG', 'USA', 'GJT', 'HGR', 'HTS', 'IAG', 'LRD', 'SHV', 'SMX',\n",
       "       'OGS', 'OWB', 'PSM', 'SPI', 'TOL', 'YNG', 'COU', 'DLH', 'ERI',\n",
       "       'SPN', 'PPG', 'ACY', 'LBE', 'LAN', 'MKG', 'TVC', 'GST', 'MMH',\n",
       "       'STS', 'ACK', 'MVY', 'HYA', 'BKG', 'AKN', 'DLG', 'RKS', 'SAF',\n",
       "       'JHM', 'MKK', 'ABI', 'RST', 'SCE', 'SHD', 'SLN', 'BFL', 'SPS',\n",
       "       'PRC', 'SGU'], dtype=object)"
      ]
     },
     "execution_count": 62,
     "metadata": {},
     "output_type": "execute_result"
    }
   ],
   "source": [
    "data[\"Origin\"].unique()"
   ]
  }
 ],
 "metadata": {
  "kernelspec": {
   "display_name": "Python 3",
   "language": "python",
   "name": "python3"
  },
  "language_info": {
   "codemirror_mode": {
    "name": "ipython",
    "version": 3
   },
   "file_extension": ".py",
   "mimetype": "text/x-python",
   "name": "python",
   "nbconvert_exporter": "python",
   "pygments_lexer": "ipython3",
   "version": "3.9.5"
  }
 },
 "nbformat": 4,
 "nbformat_minor": 5
}
