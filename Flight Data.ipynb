{
 "cells": [
  {
   "cell_type": "code",
   "execution_count": 86,
   "id": "68dd7fd1",
   "metadata": {},
   "outputs": [],
   "source": [
    "import pandas as pd\n",
    "import numpy as np\n",
    "# from matplotlib import pyplot as plt\n",
    "# import boto3, re, sys, math, json, os, sagemaker, urllib.request, IPython\n",
    "import joblib\n",
    "import time\n",
    "from sklearn.model_selection import train_test_split\n",
    "from sklearn.preprocessing import OneHotEncoder\n",
    "from sklearn.pipeline import Pipeline\n",
    "from sklearn.compose import ColumnTransformer\n",
    "from sklearn import linear_model\n",
    "from sklearn.linear_model import LinearRegression\n",
    "# from sklearn import *\n",
    "import pickle\n",
    "from azure.storage.blob import BlobServiceClient"
   ]
  },
  {
   "cell_type": "code",
   "execution_count": null,
   "id": "7a7caece",
   "metadata": {},
   "outputs": [],
   "source": [
    "# STORAGEACCOUNTURL= \"https://tst18220095.blob.core.windows.net/\"\n",
    "# STORAGEACCOUNTKEY= \"Vp0M51+EQMqigMTzWWDXUQpgPy5FEvoN0i82swDHV9HZNqdv6GEgUPClTwtr6hFR3/poVTtmt7kV+AStkc6dmg==\"\n",
    "# LOCALFILENAME= \"Cleaned_2018_Flights1.csv\"\n",
    "# CONTAINERNAME= \"newcontainer\"\n",
    "# BLOBNAME= \"Cleaned_2018_Flights.csv\"\n",
    "\n",
    "# #download from blob\n",
    "# blob_service_client_instance = BlobServiceClient(account_url=STORAGEACCOUNTURL, credential=STORAGEACCOUNTKEY)\n",
    "# blob_client_instance = blob_service_client_instance.get_blob_client(CONTAINERNAME, BLOBNAME, snapshot=None)\n",
    "# with open(LOCALFILENAME, \"wb\") as my_blob:\n",
    "#     blob_data = blob_client_instance.download_blob()\n",
    "#     blob_data.readinto(my_blob)"
   ]
  },
  {
   "cell_type": "code",
   "execution_count": 97,
   "id": "a92beebe",
   "metadata": {},
   "outputs": [
    {
     "name": "stdout",
     "output_type": "stream",
     "text": [
      "aiosqlite==0.17.0\r\n",
      "anyio==3.6.2\r\n",
      "appdirs @ file:///home/conda/feedstock_root/build_artifacts/appdirs_1603108395799/work\r\n",
      "appnope @ file:///Users/runner/miniforge3/conda-bld/appnope_1635819655903/work\r\n",
      "argon2-cffi @ file:///Users/runner/miniforge3/conda-bld/argon2-cffi_1636021455522/work\r\n",
      "async-generator==1.10\r\n",
      "attrs @ file:///home/conda/feedstock_root/build_artifacts/attrs_1620387926260/work\r\n",
      "azure-core==1.26.1\r\n",
      "azure-storage-blob==12.14.1\r\n",
      "Babel @ file:///home/conda/feedstock_root/build_artifacts/babel_1619719576210/work\r\n",
      "backcall @ file:///home/conda/feedstock_root/build_artifacts/backcall_1592338393461/work\r\n",
      "backports.functools-lru-cache @ file:///home/conda/feedstock_root/build_artifacts/backports.functools_lru_cache_1618230623929/work\r\n",
      "bcrypt==4.0.1\r\n",
      "bleach @ file:///home/conda/feedstock_root/build_artifacts/bleach_1629908509068/work\r\n",
      "boto3==1.26.25\r\n",
      "botocore==1.29.25\r\n",
      "Bottleneck @ file:///opt/concourse/worker/volumes/live/ac8c8ef3-2ed0-42e9-6ec0-5bb05ad938f6/volume/bottleneck_1607575111469/work\r\n",
      "brotlipy==0.7.0\r\n",
      "certifi==2021.5.30\r\n",
      "cffi @ file:///opt/concourse/worker/volumes/live/976f8942-f51d-4f0e-7352-2a10f0820d0e/volume/cffi_1625814703974/work\r\n",
      "chardet @ file:///opt/concourse/worker/volumes/live/7e1102c4-8702-40f2-63d6-f260ce5f85e4/volume/chardet_1607706831384/work\r\n",
      "click==7.1.2\r\n",
      "conda==4.11.0\r\n",
      "conda-package-handling @ file:///opt/concourse/worker/volumes/live/8fb3e065-760b-4a9d-4cd9-aca7fc8baf53/volume/conda-package-handling_1618262145611/work\r\n",
      "contourpy==1.0.6\r\n",
      "cryptography @ file:///opt/concourse/worker/volumes/live/d5dda287-c0b3-4861-7262-fab05baa64dc/volume/cryptography_1616769284011/work\r\n",
      "cycler==0.11.0\r\n",
      "decorator @ file:///home/conda/feedstock_root/build_artifacts/decorator_1631346842025/work\r\n",
      "defusedxml @ file:///home/conda/feedstock_root/build_artifacts/defusedxml_1615232257335/work\r\n",
      "distlib==0.3.6\r\n",
      "entrypoints @ file:///home/conda/feedstock_root/build_artifacts/entrypoints_1605121927639/work/dist/entrypoints-0.3-py2.py3-none-any.whl\r\n",
      "fastapi==0.88.0\r\n",
      "filelock==3.8.0\r\n",
      "fonttools==4.28.2\r\n",
      "idna @ file:///home/linux1/recipes/ci/idna_1610986105248/work\r\n",
      "importlib-metadata @ file:///Users/runner/miniforge3/conda-bld/importlib-metadata_1636431750260/work\r\n",
      "importlib-resources @ file:///home/conda/feedstock_root/build_artifacts/importlib_resources_1635615662634/work\r\n",
      "ipykernel @ file:///Users/runner/miniforge3/conda-bld/ipykernel_1620913000384/work/dist/ipykernel-5.5.5-py3-none-any.whl\r\n",
      "ipython @ file:///Users/runner/miniforge3/conda-bld/ipython_1636764873669/work\r\n",
      "ipython-genutils==0.2.0\r\n",
      "ipywidgets==7.6.5\r\n",
      "iso8601==1.1.0\r\n",
      "isodate==0.6.1\r\n",
      "jedi @ file:///Users/runner/miniforge3/conda-bld/jedi_1637175406194/work\r\n",
      "Jinja2==3.0.1\r\n",
      "jmespath==1.0.1\r\n",
      "joblib==1.2.0\r\n",
      "json5 @ file:///home/conda/feedstock_root/build_artifacts/json5_1600692310011/work\r\n",
      "jsonschema @ file:///home/conda/feedstock_root/build_artifacts/jsonschema_1636165360877/work\r\n",
      "jupyter==1.0.0\r\n",
      "jupyter-client @ file:///home/conda/feedstock_root/build_artifacts/jupyter_client_1633454794268/work\r\n",
      "jupyter-console==6.4.0\r\n",
      "jupyter-core @ file:///Users/runner/miniforge3/conda-bld/jupyter_core_1636814410433/work\r\n",
      "jupyter-server @ file:///home/conda/feedstock_root/build_artifacts/jupyter_server_1635811281209/work\r\n",
      "jupyterlab @ file:///home/conda/feedstock_root/build_artifacts/jupyterlab_1637169796215/work\r\n",
      "jupyterlab-pygments @ file:///home/conda/feedstock_root/build_artifacts/jupyterlab_pygments_1601375948261/work\r\n",
      "jupyterlab-server @ file:///home/conda/feedstock_root/build_artifacts/jupyterlab_server_1632590716858/work\r\n",
      "jupyterlab-widgets==1.0.2\r\n",
      "jwt==1.3.1\r\n",
      "kiwisolver==1.3.2\r\n",
      "MarkupSafe @ file:///Users/runner/miniforge3/conda-bld/markupsafe_1635833678538/work\r\n",
      "matplotlib==3.6.2\r\n",
      "matplotlib-inline @ file:///home/conda/feedstock_root/build_artifacts/matplotlib-inline_1631080358261/work\r\n",
      "mistune @ file:///Users/runner/miniforge3/conda-bld/mistune_1635844789148/work\r\n",
      "msrest==0.7.1\r\n",
      "munkres==1.1.4\r\n",
      "mysql-connector-python==8.0.31\r\n",
      "nbclassic @ file:///home/conda/feedstock_root/build_artifacts/nbclassic_1635436909771/work\r\n",
      "nbclient @ file:///home/conda/feedstock_root/build_artifacts/nbclient_1636722651147/work\r\n",
      "nbconvert @ file:///Users/runner/miniforge3/conda-bld/nbconvert_1636897338391/work\r\n",
      "nbformat @ file:///home/conda/feedstock_root/build_artifacts/nbformat_1617383142101/work\r\n",
      "nest-asyncio @ file:///home/conda/feedstock_root/build_artifacts/nest-asyncio_1617163391303/work\r\n",
      "networkx @ file:///tmp/build/80754af9/networkx_1633639043937/work\r\n",
      "notebook @ file:///home/conda/feedstock_root/build_artifacts/notebook_1637122013008/work\r\n",
      "numexpr @ file:///opt/concourse/worker/volumes/live/439c6813-a812-4bed-74cd-76f46877e33e/volume/numexpr_1618856525568/work\r\n",
      "numpy @ file:///opt/concourse/worker/volumes/live/b2a500fc-6a06-467c-519d-30dc91f506dc/volume/numpy_and_numpy_base_1634106714294/work\r\n",
      "oauthlib==3.2.2\r\n",
      "olefile @ file:///Users/ktietz/demo/mc3/conda-bld/olefile_1629805411829/work\r\n",
      "packaging @ file:///home/conda/feedstock_root/build_artifacts/packaging_1637239678211/work\r\n",
      "pandas==1.3.3\r\n",
      "pandocfilters @ file:///home/conda/feedstock_root/build_artifacts/pandocfilters_1631603243851/work\r\n",
      "parso @ file:///home/conda/feedstock_root/build_artifacts/parso_1617148930513/work\r\n",
      "pexpect @ file:///home/conda/feedstock_root/build_artifacts/pexpect_1602535608087/work\r\n",
      "pickleshare @ file:///home/conda/feedstock_root/build_artifacts/pickleshare_1602536217715/work\r\n",
      "Pillow==8.4.0\r\n",
      "platformdirs==2.5.2\r\n",
      "prometheus-client @ file:///home/conda/feedstock_root/build_artifacts/prometheus_client_1635538335951/work\r\n",
      "prompt-toolkit @ file:///home/conda/feedstock_root/build_artifacts/prompt-toolkit_1636045889479/work\r\n",
      "protobuf==3.20.1\r\n",
      "ptyprocess @ file:///home/conda/feedstock_root/build_artifacts/ptyprocess_1609419310487/work/dist/ptyprocess-0.7.0-py2.py3-none-any.whl\r\n",
      "pycosat==0.6.3\r\n",
      "pycparser @ file:///tmp/build/80754af9/pycparser_1594388511720/work\r\n",
      "pydantic==1.10.2\r\n",
      "pyee @ file:///home/conda/feedstock_root/build_artifacts/pyee_1602228160167/work\r\n",
      "Pygments @ file:///home/conda/feedstock_root/build_artifacts/pygments_1629119114968/work\r\n",
      "pyOpenSSL @ file:///tmp/build/80754af9/pyopenssl_1608057966937/work\r\n",
      "pyparsing @ file:///home/conda/feedstock_root/build_artifacts/pyparsing_1636757021002/work\r\n",
      "pypika-tortoise==0.1.6\r\n",
      "pyppeteer @ file:///home/conda/feedstock_root/build_artifacts/pyppeteer_1631635137918/work\r\n",
      "PyQt5==5.15.4\r\n",
      "pyqt5-plugins==5.15.4.2.2\r\n",
      "PyQt5-Qt5==5.15.2\r\n",
      "PyQt5-sip==12.11.0\r\n",
      "pyqt5-tools==5.15.4.3.2\r\n",
      "PyQt6==6.4.0\r\n",
      "PyQt6-Qt6==6.4.0\r\n",
      "PyQt6-sip==13.4.0\r\n",
      "pyrsistent @ file:///Users/runner/miniforge3/conda-bld/pyrsistent_1636052713700/work\r\n",
      "PySocks @ file:///opt/concourse/worker/volumes/live/112288ac-9cb0-4e73-768b-13baf4ca6419/volume/pysocks_1605305820043/work\r\n",
      "python-dateutil @ file:///home/conda/feedstock_root/build_artifacts/python-dateutil_1626286286081/work\r\n",
      "python-dotenv==0.21.0\r\n",
      "python-multipart==0.0.5\r\n",
      "pytz @ file:///home/conda/feedstock_root/build_artifacts/pytz_1633452062248/work\r\n",
      "pyzmq @ file:///opt/concourse/worker/volumes/live/a6b770e2-97ff-4d20-790a-688be9a9004f/volume/pyzmq_1628276022869/work\r\n",
      "qt5-applications==5.15.2.2.2\r\n",
      "qt5-tools==5.15.2.1.2\r\n",
      "qtconsole==5.2.0\r\n",
      "QtPy==1.11.2\r\n",
      "requests @ file:///tmp/build/80754af9/requests_1608241421344/work\r\n",
      "requests-oauthlib==1.3.1\r\n",
      "ruamel-yaml-conda @ file:///opt/concourse/worker/volumes/live/e81cf0fe-611a-498e-6e69-a7320057c1ac/volume/ruamel_yaml_1616016689696/work\r\n",
      "s3transfer==0.6.0\r\n",
      "scikit-learn==1.1.3\r\n",
      "scipy==1.9.3\r\n",
      "seaborn @ file:///tmp/build/80754af9/seaborn_1629307859561/work\r\n",
      "Send2Trash @ file:///home/conda/feedstock_root/build_artifacts/send2trash_1628511208346/work\r\n",
      "setuptools-scm==6.3.2\r\n",
      "six @ file:///tmp/build/80754af9/six_1623709665295/work\r\n",
      "sklearn==0.0.post1\r\n",
      "sniffio @ file:///Users/runner/miniforge3/conda-bld/sniffio_1635845059573/work\r\n",
      "starlette==0.22.0\r\n",
      "terminado @ file:///Users/runner/miniforge3/conda-bld/terminado_1636052339462/work\r\n",
      "testpath @ file:///home/conda/feedstock_root/build_artifacts/testpath_1621261527237/work\r\n",
      "threadpoolctl==3.1.0\r\n",
      "tomli==1.2.2\r\n",
      "tornado @ file:///Users/runner/miniforge3/conda-bld/tornado_1635819729986/work\r\n",
      "tortoise-orm==0.19.2\r\n",
      "tqdm @ file:///tmp/build/80754af9/tqdm_1625563689033/work\r\n",
      "traitlets @ file:///home/conda/feedstock_root/build_artifacts/traitlets_1635260543454/work\r\n",
      "typing_extensions==4.4.0\r\n",
      "urllib3 @ file:///tmp/build/80754af9/urllib3_1625084269274/work\r\n",
      "virtualenv==20.16.5\r\n",
      "wcwidth @ file:///home/conda/feedstock_root/build_artifacts/wcwidth_1600965781394/work\r\n",
      "webencodings==0.5.1\r\n",
      "websocket-client @ file:///Users/runner/miniforge3/conda-bld/websocket-client_1636991179980/work\r\n",
      "websockets @ file:///Users/runner/miniforge3/conda-bld/websockets_1622491359300/work\r\n",
      "widgetsnbextension==3.5.2\r\n",
      "zipp @ file:///home/conda/feedstock_root/build_artifacts/zipp_1633302054558/work\r\n"
     ]
    },
    {
     "name": "stdout",
     "output_type": "stream",
     "text": [
      "Note: you may need to restart the kernel to use updated packages.\n"
     ]
    }
   ],
   "source": [
    "pip freeze"
   ]
  },
  {
   "cell_type": "code",
   "execution_count": 91,
   "id": "053e570f",
   "metadata": {},
   "outputs": [
    {
     "data": {
      "text/html": [
       "<div>\n",
       "<style scoped>\n",
       "    .dataframe tbody tr th:only-of-type {\n",
       "        vertical-align: middle;\n",
       "    }\n",
       "\n",
       "    .dataframe tbody tr th {\n",
       "        vertical-align: top;\n",
       "    }\n",
       "\n",
       "    .dataframe thead th {\n",
       "        text-align: right;\n",
       "    }\n",
       "</style>\n",
       "<table border=\"1\" class=\"dataframe\">\n",
       "  <thead>\n",
       "    <tr style=\"text-align: right;\">\n",
       "      <th></th>\n",
       "      <th>Quarter</th>\n",
       "      <th>Origin</th>\n",
       "      <th>Dest</th>\n",
       "      <th>NumTicketsOrdered</th>\n",
       "      <th>AirlineCompany</th>\n",
       "      <th>PricePerTicket</th>\n",
       "    </tr>\n",
       "  </thead>\n",
       "  <tbody>\n",
       "    <tr>\n",
       "      <th>0</th>\n",
       "      <td>1</td>\n",
       "      <td>PHL</td>\n",
       "      <td>LAX</td>\n",
       "      <td>1.0</td>\n",
       "      <td>AA</td>\n",
       "      <td>672.87</td>\n",
       "    </tr>\n",
       "    <tr>\n",
       "      <th>1</th>\n",
       "      <td>1</td>\n",
       "      <td>PHL</td>\n",
       "      <td>LAX</td>\n",
       "      <td>1.0</td>\n",
       "      <td>AA</td>\n",
       "      <td>367.68</td>\n",
       "    </tr>\n",
       "    <tr>\n",
       "      <th>2</th>\n",
       "      <td>1</td>\n",
       "      <td>PHL</td>\n",
       "      <td>LAX</td>\n",
       "      <td>1.0</td>\n",
       "      <td>AA</td>\n",
       "      <td>417.94</td>\n",
       "    </tr>\n",
       "    <tr>\n",
       "      <th>3</th>\n",
       "      <td>1</td>\n",
       "      <td>PHL</td>\n",
       "      <td>LAX</td>\n",
       "      <td>1.0</td>\n",
       "      <td>AA</td>\n",
       "      <td>247.10</td>\n",
       "    </tr>\n",
       "    <tr>\n",
       "      <th>4</th>\n",
       "      <td>1</td>\n",
       "      <td>PHL</td>\n",
       "      <td>LAX</td>\n",
       "      <td>1.0</td>\n",
       "      <td>AA</td>\n",
       "      <td>276.35</td>\n",
       "    </tr>\n",
       "  </tbody>\n",
       "</table>\n",
       "</div>"
      ],
      "text/plain": [
       "   Quarter Origin Dest  NumTicketsOrdered AirlineCompany  PricePerTicket\n",
       "0        1    PHL  LAX                1.0             AA          672.87\n",
       "1        1    PHL  LAX                1.0             AA          367.68\n",
       "2        1    PHL  LAX                1.0             AA          417.94\n",
       "3        1    PHL  LAX                1.0             AA          247.10\n",
       "4        1    PHL  LAX                1.0             AA          276.35"
      ]
     },
     "execution_count": 91,
     "metadata": {},
     "output_type": "execute_result"
    }
   ],
   "source": [
    "data = pd.read_csv('Cleaned_2018_Flights1.csv')\n",
    "data = data.dropna()\n",
    "data = data.drop(\n",
    "    columns=[\n",
    "        \"Unnamed: 0\",\n",
    "        \"ItinID\",\n",
    "        \"MktID\",\n",
    "        \"MktCoupons\",\n",
    "        \"OriginWac\",\n",
    "        \"DestWac\",\n",
    "        \"ContiguousUSA\",\n",
    "        \"Miles\"\n",
    "    ]\n",
    ")\n",
    "data.head()"
   ]
  },
  {
   "cell_type": "code",
   "execution_count": 41,
   "id": "1fc7e8c6",
   "metadata": {},
   "outputs": [],
   "source": [
    "y = data[[\"PricePerTicket\"]]\n",
    "x = data.drop(columns=[\"PricePerTicket\"])"
   ]
  },
  {
   "cell_type": "code",
   "execution_count": 44,
   "id": "21489cff",
   "metadata": {},
   "outputs": [],
   "source": [
    "X_train, X_test, y_train, y_test = train_test_split(\n",
    "    x, y, test_size=0.33, random_state=42\n",
    ")"
   ]
  },
  {
   "cell_type": "code",
   "execution_count": 50,
   "id": "d0563ed4",
   "metadata": {},
   "outputs": [],
   "source": [
    "numerical_cols = [\"NumTicketsOrdered\"]\n",
    "categorical_cols = [\"Quarter\", \"Origin\", \"Dest\", \"AirlineCompany\"]\n",
    "\n",
    "categorical_transformer = Pipeline(\n",
    "    steps=[(\"onehot\", OneHotEncoder(handle_unknown=\"ignore\"))]\n",
    ")\n",
    "preprocessor = ColumnTransformer(\n",
    "    transformers=[(\"cat\", categorical_transformer, categorical_cols)],\n",
    "    remainder=\"passthrough\",\n",
    ")"
   ]
  },
  {
   "cell_type": "code",
   "execution_count": 92,
   "id": "d15180a5",
   "metadata": {},
   "outputs": [
    {
     "data": {
      "text/html": [
       "<style>#sk-container-id-4 {color: black;background-color: white;}#sk-container-id-4 pre{padding: 0;}#sk-container-id-4 div.sk-toggleable {background-color: white;}#sk-container-id-4 label.sk-toggleable__label {cursor: pointer;display: block;width: 100%;margin-bottom: 0;padding: 0.3em;box-sizing: border-box;text-align: center;}#sk-container-id-4 label.sk-toggleable__label-arrow:before {content: \"▸\";float: left;margin-right: 0.25em;color: #696969;}#sk-container-id-4 label.sk-toggleable__label-arrow:hover:before {color: black;}#sk-container-id-4 div.sk-estimator:hover label.sk-toggleable__label-arrow:before {color: black;}#sk-container-id-4 div.sk-toggleable__content {max-height: 0;max-width: 0;overflow: hidden;text-align: left;background-color: #f0f8ff;}#sk-container-id-4 div.sk-toggleable__content pre {margin: 0.2em;color: black;border-radius: 0.25em;background-color: #f0f8ff;}#sk-container-id-4 input.sk-toggleable__control:checked~div.sk-toggleable__content {max-height: 200px;max-width: 100%;overflow: auto;}#sk-container-id-4 input.sk-toggleable__control:checked~label.sk-toggleable__label-arrow:before {content: \"▾\";}#sk-container-id-4 div.sk-estimator input.sk-toggleable__control:checked~label.sk-toggleable__label {background-color: #d4ebff;}#sk-container-id-4 div.sk-label input.sk-toggleable__control:checked~label.sk-toggleable__label {background-color: #d4ebff;}#sk-container-id-4 input.sk-hidden--visually {border: 0;clip: rect(1px 1px 1px 1px);clip: rect(1px, 1px, 1px, 1px);height: 1px;margin: -1px;overflow: hidden;padding: 0;position: absolute;width: 1px;}#sk-container-id-4 div.sk-estimator {font-family: monospace;background-color: #f0f8ff;border: 1px dotted black;border-radius: 0.25em;box-sizing: border-box;margin-bottom: 0.5em;}#sk-container-id-4 div.sk-estimator:hover {background-color: #d4ebff;}#sk-container-id-4 div.sk-parallel-item::after {content: \"\";width: 100%;border-bottom: 1px solid gray;flex-grow: 1;}#sk-container-id-4 div.sk-label:hover label.sk-toggleable__label {background-color: #d4ebff;}#sk-container-id-4 div.sk-serial::before {content: \"\";position: absolute;border-left: 1px solid gray;box-sizing: border-box;top: 0;bottom: 0;left: 50%;z-index: 0;}#sk-container-id-4 div.sk-serial {display: flex;flex-direction: column;align-items: center;background-color: white;padding-right: 0.2em;padding-left: 0.2em;position: relative;}#sk-container-id-4 div.sk-item {position: relative;z-index: 1;}#sk-container-id-4 div.sk-parallel {display: flex;align-items: stretch;justify-content: center;background-color: white;position: relative;}#sk-container-id-4 div.sk-item::before, #sk-container-id-4 div.sk-parallel-item::before {content: \"\";position: absolute;border-left: 1px solid gray;box-sizing: border-box;top: 0;bottom: 0;left: 50%;z-index: -1;}#sk-container-id-4 div.sk-parallel-item {display: flex;flex-direction: column;z-index: 1;position: relative;background-color: white;}#sk-container-id-4 div.sk-parallel-item:first-child::after {align-self: flex-end;width: 50%;}#sk-container-id-4 div.sk-parallel-item:last-child::after {align-self: flex-start;width: 50%;}#sk-container-id-4 div.sk-parallel-item:only-child::after {width: 0;}#sk-container-id-4 div.sk-dashed-wrapped {border: 1px dashed gray;margin: 0 0.4em 0.5em 0.4em;box-sizing: border-box;padding-bottom: 0.4em;background-color: white;}#sk-container-id-4 div.sk-label label {font-family: monospace;font-weight: bold;display: inline-block;line-height: 1.2em;}#sk-container-id-4 div.sk-label-container {text-align: center;}#sk-container-id-4 div.sk-container {/* jupyter's `normalize.less` sets `[hidden] { display: none; }` but bootstrap.min.css set `[hidden] { display: none !important; }` so we also need the `!important` here to be able to override the default hidden behavior on the sphinx rendered scikit-learn.org. See: https://github.com/scikit-learn/scikit-learn/issues/21755 */display: inline-block !important;position: relative;}#sk-container-id-4 div.sk-text-repr-fallback {display: none;}</style><div id=\"sk-container-id-4\" class=\"sk-top-container\"><div class=\"sk-text-repr-fallback\"><pre>Pipeline(steps=[(&#x27;preprocessor&#x27;,\n",
       "                 ColumnTransformer(remainder=&#x27;passthrough&#x27;,\n",
       "                                   transformers=[(&#x27;cat&#x27;,\n",
       "                                                  Pipeline(steps=[(&#x27;onehot&#x27;,\n",
       "                                                                   OneHotEncoder(handle_unknown=&#x27;ignore&#x27;))]),\n",
       "                                                  [&#x27;Quarter&#x27;, &#x27;Origin&#x27;, &#x27;Dest&#x27;,\n",
       "                                                   &#x27;AirlineCompany&#x27;])])),\n",
       "                (&#x27;LinearRegressor&#x27;, LinearRegression())])</pre><b>In a Jupyter environment, please rerun this cell to show the HTML representation or trust the notebook. <br />On GitHub, the HTML representation is unable to render, please try loading this page with nbviewer.org.</b></div><div class=\"sk-container\" hidden><div class=\"sk-item sk-dashed-wrapped\"><div class=\"sk-label-container\"><div class=\"sk-label sk-toggleable\"><input class=\"sk-toggleable__control sk-hidden--visually\" id=\"sk-estimator-id-14\" type=\"checkbox\" ><label for=\"sk-estimator-id-14\" class=\"sk-toggleable__label sk-toggleable__label-arrow\">Pipeline</label><div class=\"sk-toggleable__content\"><pre>Pipeline(steps=[(&#x27;preprocessor&#x27;,\n",
       "                 ColumnTransformer(remainder=&#x27;passthrough&#x27;,\n",
       "                                   transformers=[(&#x27;cat&#x27;,\n",
       "                                                  Pipeline(steps=[(&#x27;onehot&#x27;,\n",
       "                                                                   OneHotEncoder(handle_unknown=&#x27;ignore&#x27;))]),\n",
       "                                                  [&#x27;Quarter&#x27;, &#x27;Origin&#x27;, &#x27;Dest&#x27;,\n",
       "                                                   &#x27;AirlineCompany&#x27;])])),\n",
       "                (&#x27;LinearRegressor&#x27;, LinearRegression())])</pre></div></div></div><div class=\"sk-serial\"><div class=\"sk-item sk-dashed-wrapped\"><div class=\"sk-label-container\"><div class=\"sk-label sk-toggleable\"><input class=\"sk-toggleable__control sk-hidden--visually\" id=\"sk-estimator-id-15\" type=\"checkbox\" ><label for=\"sk-estimator-id-15\" class=\"sk-toggleable__label sk-toggleable__label-arrow\">preprocessor: ColumnTransformer</label><div class=\"sk-toggleable__content\"><pre>ColumnTransformer(remainder=&#x27;passthrough&#x27;,\n",
       "                  transformers=[(&#x27;cat&#x27;,\n",
       "                                 Pipeline(steps=[(&#x27;onehot&#x27;,\n",
       "                                                  OneHotEncoder(handle_unknown=&#x27;ignore&#x27;))]),\n",
       "                                 [&#x27;Quarter&#x27;, &#x27;Origin&#x27;, &#x27;Dest&#x27;,\n",
       "                                  &#x27;AirlineCompany&#x27;])])</pre></div></div></div><div class=\"sk-parallel\"><div class=\"sk-parallel-item\"><div class=\"sk-item\"><div class=\"sk-label-container\"><div class=\"sk-label sk-toggleable\"><input class=\"sk-toggleable__control sk-hidden--visually\" id=\"sk-estimator-id-16\" type=\"checkbox\" ><label for=\"sk-estimator-id-16\" class=\"sk-toggleable__label sk-toggleable__label-arrow\">cat</label><div class=\"sk-toggleable__content\"><pre>[&#x27;Quarter&#x27;, &#x27;Origin&#x27;, &#x27;Dest&#x27;, &#x27;AirlineCompany&#x27;]</pre></div></div></div><div class=\"sk-serial\"><div class=\"sk-item\"><div class=\"sk-serial\"><div class=\"sk-item\"><div class=\"sk-estimator sk-toggleable\"><input class=\"sk-toggleable__control sk-hidden--visually\" id=\"sk-estimator-id-17\" type=\"checkbox\" ><label for=\"sk-estimator-id-17\" class=\"sk-toggleable__label sk-toggleable__label-arrow\">OneHotEncoder</label><div class=\"sk-toggleable__content\"><pre>OneHotEncoder(handle_unknown=&#x27;ignore&#x27;)</pre></div></div></div></div></div></div></div></div><div class=\"sk-parallel-item\"><div class=\"sk-item\"><div class=\"sk-label-container\"><div class=\"sk-label sk-toggleable\"><input class=\"sk-toggleable__control sk-hidden--visually\" id=\"sk-estimator-id-18\" type=\"checkbox\" ><label for=\"sk-estimator-id-18\" class=\"sk-toggleable__label sk-toggleable__label-arrow\">remainder</label><div class=\"sk-toggleable__content\"><pre>[&#x27;NumTicketsOrdered&#x27;]</pre></div></div></div><div class=\"sk-serial\"><div class=\"sk-item\"><div class=\"sk-estimator sk-toggleable\"><input class=\"sk-toggleable__control sk-hidden--visually\" id=\"sk-estimator-id-19\" type=\"checkbox\" ><label for=\"sk-estimator-id-19\" class=\"sk-toggleable__label sk-toggleable__label-arrow\">passthrough</label><div class=\"sk-toggleable__content\"><pre>passthrough</pre></div></div></div></div></div></div></div></div><div class=\"sk-item\"><div class=\"sk-estimator sk-toggleable\"><input class=\"sk-toggleable__control sk-hidden--visually\" id=\"sk-estimator-id-20\" type=\"checkbox\" ><label for=\"sk-estimator-id-20\" class=\"sk-toggleable__label sk-toggleable__label-arrow\">LinearRegression</label><div class=\"sk-toggleable__content\"><pre>LinearRegression()</pre></div></div></div></div></div></div></div>"
      ],
      "text/plain": [
       "Pipeline(steps=[('preprocessor',\n",
       "                 ColumnTransformer(remainder='passthrough',\n",
       "                                   transformers=[('cat',\n",
       "                                                  Pipeline(steps=[('onehot',\n",
       "                                                                   OneHotEncoder(handle_unknown='ignore'))]),\n",
       "                                                  ['Quarter', 'Origin', 'Dest',\n",
       "                                                   'AirlineCompany'])])),\n",
       "                ('LinearRegressor', LinearRegression())])"
      ]
     },
     "execution_count": 92,
     "metadata": {},
     "output_type": "execute_result"
    }
   ],
   "source": [
    "LR_pipe = Pipeline([(\"preprocessor\", preprocessor), (\"LinearRegressor\", LinearRegression())])\n",
    "LR_pipe.fit(X_train, y_train)"
   ]
  },
  {
   "cell_type": "code",
   "execution_count": 93,
   "id": "d6d26a9b",
   "metadata": {},
   "outputs": [
    {
     "data": {
      "text/plain": [
       "['API/models/flightmodel.joblib']"
      ]
     },
     "execution_count": 93,
     "metadata": {},
     "output_type": "execute_result"
    }
   ],
   "source": [
    "joblib.dump(LR_pipe, \"API/models/flightmodel.joblib\")"
   ]
  },
  {
   "cell_type": "markdown",
   "id": "3a90bb60",
   "metadata": {},
   "source": [
    "file = \"lr_model.sav\"\n",
    "pickle.dump(lr, open(file, 'wb'))"
   ]
  },
  {
   "cell_type": "markdown",
   "id": "a9ecfdb2",
   "metadata": {},
   "source": [
    "file = \"preprocerssor.sav\"\n",
    "pickle.dump(preprocessor, open(file, 'wb'))"
   ]
  },
  {
   "cell_type": "markdown",
   "id": "936dc3d5",
   "metadata": {},
   "source": [
    "TEST 1"
   ]
  },
  {
   "cell_type": "code",
   "execution_count": 122,
   "id": "e4440afd",
   "metadata": {},
   "outputs": [],
   "source": [
    "# key1 = open(\"preprocerssor.sav\",\"rb\")\n",
    "# key2 = open(\"lr_model.sav\",\"rb\")\n",
    "key3 = open(\"API/models/flightmodel.joblib\",\"rb\")\n",
    "model = joblib.load(key3)\n",
    "test_datas = [1,\"BOS\",\"LAX\",2,\"AA\"]"
   ]
  },
  {
   "cell_type": "code",
   "execution_count": 118,
   "id": "fd9d8d51",
   "metadata": {},
   "outputs": [
    {
     "data": {
      "text/plain": [
       "array([[4.0, 'SFO', 'LAX', 4.0, 'DL']], dtype=object)"
      ]
     },
     "execution_count": 118,
     "metadata": {},
     "output_type": "execute_result"
    }
   ],
   "source": [
    "plan = \"4,SFO,LAX,4,DL\"\n",
    "types = {\n",
    "    \"Quarter\": np.float64,\n",
    "    \"Origin\": str,\n",
    "    \"Dest\": str,\n",
    "    \"NumTicketsOrdered\": np.float64,\n",
    "    \"AirlineCompany\": str,\n",
    "}\n",
    "    \n",
    "test_data = plan.split(\",\")\n",
    "df = pd.DataFrame(test_data).transpose()\n",
    "df.columns = list(types.keys())\n",
    "df = df.astype(types)\n",
    "df.to_numpy()"
   ]
  },
  {
   "cell_type": "code",
   "execution_count": 120,
   "id": "98964cbd",
   "metadata": {},
   "outputs": [
    {
     "data": {
      "text/plain": [
       "['4', 'SFO', 'LAX', '4', 'DL']"
      ]
     },
     "execution_count": 120,
     "metadata": {},
     "output_type": "execute_result"
    }
   ],
   "source": [
    "test_data"
   ]
  },
  {
   "cell_type": "code",
   "execution_count": 124,
   "id": "7876102c",
   "metadata": {
    "scrolled": false
   },
   "outputs": [
    {
     "data": {
      "text/plain": [
       "array([[1.0, 'BOS', 'LAX', 2.0, 'AA']], dtype=object)"
      ]
     },
     "execution_count": 124,
     "metadata": {},
     "output_type": "execute_result"
    }
   ],
   "source": [
    "test_datas\n",
    "df = pd.DataFrame(test_datas).transpose()\n",
    "df.columns = list(types.keys())\n",
    "df = df.astype(types)\n",
    "df.to_numpy()"
   ]
  },
  {
   "cell_type": "code",
   "execution_count": 126,
   "id": "29e20e93",
   "metadata": {},
   "outputs": [
    {
     "data": {
      "text/plain": [
       "289.0336788164434"
      ]
     },
     "execution_count": 126,
     "metadata": {},
     "output_type": "execute_result"
    }
   ],
   "source": [
    "model.predict(df)[0][0]"
   ]
  },
  {
   "cell_type": "code",
   "execution_count": 59,
   "id": "c32ec6d7",
   "metadata": {},
   "outputs": [
    {
     "data": {
      "text/plain": [
       "array(['AA', 'AS', 'DL', 'UA', 'B6', 'SY', 'WN', 'F9', 'G4', 'HA', 'NK',\n",
       "       'VX'], dtype=object)"
      ]
     },
     "execution_count": 59,
     "metadata": {},
     "output_type": "execute_result"
    }
   ],
   "source": [
    "data[\"AirlineCompany\"].unique()"
   ]
  },
  {
   "cell_type": "code",
   "execution_count": 62,
   "id": "49a6849a",
   "metadata": {},
   "outputs": [
    {
     "data": {
      "text/plain": [
       "array(['PHL', 'LAX', 'SAN', 'SFO', 'AUS', 'BOS', 'MIA', 'ORD', 'LGA',\n",
       "       'CLT', 'TPA', 'DFW', 'LAS', 'MCI', 'MCO', 'FLL', 'MSY', 'PBI',\n",
       "       'PHX', 'RSW', 'MEM', 'MHT', 'SJU', 'SLC', 'MSP', 'SAT', 'CLE',\n",
       "       'DEN', 'JAC', 'SEA', 'RDU', 'SMF', 'DTW', 'PIT', 'PVD', 'ATL',\n",
       "       'BNA', 'DCA', 'STL', 'ABQ', 'BOI', 'JFK', 'KOA', 'BWI', 'EWR',\n",
       "       'JAX', 'CMH', 'OMA', 'PDX', 'COS', 'DSM', 'GEG', 'HDN', 'IND',\n",
       "       'MKE', 'MTJ', 'FAT', 'HNL', 'LIH', 'IAH', 'SJC', 'SNA', 'OGG',\n",
       "       'RNO', 'OAK', 'ONT', 'PSP', 'RIC', 'SAV', 'PNS', 'SDF', 'PWM',\n",
       "       'BDL', 'TUL', 'ORF', 'VPS', 'TUS', 'SBA', 'ILM', 'IAD', 'CVG',\n",
       "       'GSP', 'STT', 'STX', 'SYR', 'BUF', 'EGE', 'ICT', 'LBB', 'ADK',\n",
       "       'ANC', 'ADQ', 'JNU', 'BET', 'BRW', 'CDV', 'KTN', 'FAI', 'PSG',\n",
       "       'WRG', 'SIT', 'OME', 'OTZ', 'SCC', 'SRQ', 'BIL', 'BZN', 'AGS',\n",
       "       'ALB', 'CHS', 'GSO', 'OKC', 'LEX', 'HOU', 'ROA', 'TLH', 'LFT',\n",
       "       'CRW', 'FNT', 'LIT', 'JAN', 'BTR', 'GPT', 'BHM', 'DAL', 'MDW',\n",
       "       'MDT', 'EVV', 'GRR', 'MSN', 'CHA', 'XNA', 'DAY', 'ROC', 'EYW',\n",
       "       'BIS', 'MLB', 'CID', 'MOB', 'CAK', 'GNV', 'MSO', 'FAR', 'FSD',\n",
       "       'GRB', 'MYR', 'ECP', 'PHF', 'ELP', 'GUC', 'MFE', 'MFR', 'ITO',\n",
       "       'LNK', 'MRY', 'BTV', 'BUR', 'GUM', 'RDM', 'YAK', 'BLI', 'LGB',\n",
       "       'BQN', 'DAB', 'HPN', 'ORH', 'SWF', 'PSE', 'FAY', 'CHO', 'ABE',\n",
       "       'CAE', 'TRI', 'SGF', 'ATW', 'TYS', 'HRL', 'ASE', 'AVL', 'ISP',\n",
       "       'AMA', 'CRP', 'MAF', 'FLG', 'AVP', 'HSV', 'BMI', 'TTN', 'PGD',\n",
       "       'PIE', 'SFB', 'AZA', 'LCK', 'BLV', 'EUG', 'FWA', 'GFK', 'GRI',\n",
       "       'GTF', 'IDA', 'MLI', 'MOT', 'OGD', 'PIA', 'PSC', 'PVU', 'RAP',\n",
       "       'RFD', 'SBN', 'SCK', 'STC', 'BGR', 'CKB', 'CPR', 'ELM', 'FCA',\n",
       "       'PBG', 'USA', 'GJT', 'HGR', 'HTS', 'IAG', 'LRD', 'SHV', 'SMX',\n",
       "       'OGS', 'OWB', 'PSM', 'SPI', 'TOL', 'YNG', 'COU', 'DLH', 'ERI',\n",
       "       'SPN', 'PPG', 'ACY', 'LBE', 'LAN', 'MKG', 'TVC', 'GST', 'MMH',\n",
       "       'STS', 'ACK', 'MVY', 'HYA', 'BKG', 'AKN', 'DLG', 'RKS', 'SAF',\n",
       "       'JHM', 'MKK', 'ABI', 'RST', 'SCE', 'SHD', 'SLN', 'BFL', 'SPS',\n",
       "       'PRC', 'SGU'], dtype=object)"
      ]
     },
     "execution_count": 62,
     "metadata": {},
     "output_type": "execute_result"
    }
   ],
   "source": [
    "data[\"Origin\"].unique()"
   ]
  }
 ],
 "metadata": {
  "kernelspec": {
   "display_name": "Python 3",
   "language": "python",
   "name": "python3"
  },
  "language_info": {
   "codemirror_mode": {
    "name": "ipython",
    "version": 3
   },
   "file_extension": ".py",
   "mimetype": "text/x-python",
   "name": "python",
   "nbconvert_exporter": "python",
   "pygments_lexer": "ipython3",
   "version": "3.9.5"
  }
 },
 "nbformat": 4,
 "nbformat_minor": 5
}
